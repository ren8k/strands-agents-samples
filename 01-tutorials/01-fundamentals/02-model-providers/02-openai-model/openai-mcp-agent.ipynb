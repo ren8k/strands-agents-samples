{
 "cells": [
  {
   "cell_type": "markdown",
   "metadata": {
    "collapsed": false,
    "jupyter": {
     "outputs_hidden": false
    },
    "pycharm": {
     "name": "#%% md\n"
    }
   },
   "source": [
    "# Using OpenAI models with Strands Agent\n",
    "\n",
    "## Overview\n",
    "\n",
    "Strands Agents is an SDK that takes a model-driven approach to building and running AI agents in just a few lines of code. Strands supports multiple providers and models hosted anywhere.\n",
    "\n",
    "[LiteLLM](https://docs.litellm.ai/docs/) is a unified interface for various LLM providers that allows you to interact with models from Amazon, Anthropic, OpenAI, and many others through a single API. The Strands Agent SDK implements a LiteLLM provider, allowing you to run agents against any model LiteLLM supports.\n",
    "\n",
    "In this example, we will show you how to use `gpt-4.1-mini` model hosted in Microsoft Azure as the underlying model in your Strands Agent. We will use a simple agent use case with a weather and a get time tool.\n",
    "\n",
    "## Agent Details\n",
    "\n",
    "<div style=\"float: left; margin-right: 20px;\">\n",
    "    \n",
    "|Feature             |Description                                        |\n",
    "|--------------------|---------------------------------------------------|\n",
    "|Feature used        |LiteLLM model                                      |\n",
    "|Agent Structure     |Single agent architecture                          |\n",
    "\n",
    "</div>\n"
   ]
  },
  {
   "cell_type": "markdown",
   "metadata": {},
   "source": [
    "## Architecture\n",
    "\n",
    "<div style=\"text-align:center\">\n",
    "    <img src=\"images/architecture.png\" width=\"65%\" />\n",
    "</div>\n",
    "\n",
    "## Key Features\n",
    "\n",
    "- **LiteLLM model**: using a model provided via LiteLLM\n"
   ]
  },
  {
   "cell_type": "markdown",
   "metadata": {},
   "source": [
    "## Setup and prerequisites\n",
    "\n",
    "### Prerequisites\n",
    "\n",
    "- Python 3.10+\n",
    "- Azure Account\n",
    "- gpt-4.1-mini access\n",
    "\n",
    "Let's now install the requirement packages for our Strands Agent\n"
   ]
  },
  {
   "cell_type": "code",
   "execution_count": 1,
   "metadata": {},
   "outputs": [
    {
     "name": "stdout",
     "output_type": "stream",
     "text": [
      "\u001b[33mWARNING: Ignoring invalid distribution -ackaging (/opt/conda/envs/pytorch/lib/python3.10/site-packages)\u001b[0m\u001b[33m\n",
      "\u001b[0mRequirement already satisfied: strands-agents in /opt/conda/envs/pytorch/lib/python3.10/site-packages (from -r requirements.txt (line 1)) (0.1.6)\n",
      "Requirement already satisfied: strands-agents-tools in /opt/conda/envs/pytorch/lib/python3.10/site-packages (from -r requirements.txt (line 2)) (0.1.4)\n",
      "Requirement already satisfied: boto3<2.0.0,>=1.26.0 in /opt/conda/envs/pytorch/lib/python3.10/site-packages (from strands-agents->-r requirements.txt (line 1)) (1.34.148)\n",
      "Requirement already satisfied: botocore<2.0.0,>=1.29.0 in /opt/conda/envs/pytorch/lib/python3.10/site-packages (from strands-agents->-r requirements.txt (line 1)) (1.34.154)\n",
      "Requirement already satisfied: docstring-parser<0.16.0,>=0.15 in /opt/conda/envs/pytorch/lib/python3.10/site-packages (from strands-agents->-r requirements.txt (line 1)) (0.15)\n",
      "Requirement already satisfied: mcp<2.0.0,>=1.8.0 in /opt/conda/envs/pytorch/lib/python3.10/site-packages (from strands-agents->-r requirements.txt (line 1)) (1.9.3)\n",
      "Requirement already satisfied: opentelemetry-api<2.0.0,>=1.30.0 in /opt/conda/envs/pytorch/lib/python3.10/site-packages (from strands-agents->-r requirements.txt (line 1)) (1.34.0)\n",
      "Requirement already satisfied: opentelemetry-exporter-otlp-proto-http<2.0.0,>=1.30.0 in /opt/conda/envs/pytorch/lib/python3.10/site-packages (from strands-agents->-r requirements.txt (line 1)) (1.34.0)\n",
      "Requirement already satisfied: opentelemetry-sdk<2.0.0,>=1.30.0 in /opt/conda/envs/pytorch/lib/python3.10/site-packages (from strands-agents->-r requirements.txt (line 1)) (1.34.0)\n",
      "Requirement already satisfied: pydantic<3.0.0,>=2.0.0 in /opt/conda/envs/pytorch/lib/python3.10/site-packages (from strands-agents->-r requirements.txt (line 1)) (2.11.5)\n",
      "Requirement already satisfied: typing-extensions<5.0.0,>=4.13.2 in /opt/conda/envs/pytorch/lib/python3.10/site-packages (from strands-agents->-r requirements.txt (line 1)) (4.14.0)\n",
      "Requirement already satisfied: watchdog<7.0.0,>=6.0.0 in /opt/conda/envs/pytorch/lib/python3.10/site-packages (from strands-agents->-r requirements.txt (line 1)) (6.0.0)\n",
      "Requirement already satisfied: aws-requests-auth<0.5.0,>=0.4.3 in /opt/conda/envs/pytorch/lib/python3.10/site-packages (from strands-agents-tools->-r requirements.txt (line 2)) (0.4.3)\n",
      "Requirement already satisfied: colorama<0.5.0,>=0.4.6 in /opt/conda/envs/pytorch/lib/python3.10/site-packages (from strands-agents-tools->-r requirements.txt (line 2)) (0.4.6)\n",
      "Requirement already satisfied: dill<0.5.0,>=0.4.0 in /opt/conda/envs/pytorch/lib/python3.10/site-packages (from strands-agents-tools->-r requirements.txt (line 2)) (0.4.0)\n",
      "Requirement already satisfied: pillow<12.0.0,>=11.2.1 in /opt/conda/envs/pytorch/lib/python3.10/site-packages (from strands-agents-tools->-r requirements.txt (line 2)) (11.2.1)\n",
      "Requirement already satisfied: prompt-toolkit<4.0.0,>=3.0.51 in /opt/conda/envs/pytorch/lib/python3.10/site-packages (from strands-agents-tools->-r requirements.txt (line 2)) (3.0.51)\n",
      "Requirement already satisfied: pyjwt<3.0.0,>=2.10.1 in /opt/conda/envs/pytorch/lib/python3.10/site-packages (from strands-agents-tools->-r requirements.txt (line 2)) (2.10.1)\n",
      "Requirement already satisfied: rich<15.0.0,>=14.0.0 in /opt/conda/envs/pytorch/lib/python3.10/site-packages (from strands-agents-tools->-r requirements.txt (line 2)) (14.0.0)\n",
      "Requirement already satisfied: slack-bolt<2.0.0,>=1.23.0 in /opt/conda/envs/pytorch/lib/python3.10/site-packages (from strands-agents-tools->-r requirements.txt (line 2)) (1.23.0)\n",
      "Requirement already satisfied: sympy<2.0.0,>=1.12.0 in /opt/conda/envs/pytorch/lib/python3.10/site-packages (from strands-agents-tools->-r requirements.txt (line 2)) (1.12)\n",
      "Requirement already satisfied: tenacity<10.0.0,>=9.1.2 in /opt/conda/envs/pytorch/lib/python3.10/site-packages (from strands-agents-tools->-r requirements.txt (line 2)) (9.1.2)\n",
      "Collecting litellm<2.0.0,>=1.69.0 (from strands-agents[litellm]->-r requirements.txt (line 3))\n",
      "  Downloading litellm-1.72.1-py3-none-any.whl.metadata (39 kB)\n",
      "Requirement already satisfied: requests>=0.14.0 in /opt/conda/envs/pytorch/lib/python3.10/site-packages (from aws-requests-auth<0.5.0,>=0.4.3->strands-agents-tools->-r requirements.txt (line 2)) (2.31.0)\n",
      "Requirement already satisfied: jmespath<2.0.0,>=0.7.1 in /opt/conda/envs/pytorch/lib/python3.10/site-packages (from boto3<2.0.0,>=1.26.0->strands-agents->-r requirements.txt (line 1)) (1.0.1)\n",
      "Requirement already satisfied: s3transfer<0.11.0,>=0.10.0 in /opt/conda/envs/pytorch/lib/python3.10/site-packages (from boto3<2.0.0,>=1.26.0->strands-agents->-r requirements.txt (line 1)) (0.10.1)\n",
      "Requirement already satisfied: python-dateutil<3.0.0,>=2.1 in /opt/conda/envs/pytorch/lib/python3.10/site-packages (from botocore<2.0.0,>=1.29.0->strands-agents->-r requirements.txt (line 1)) (2.8.2)\n",
      "Requirement already satisfied: urllib3!=2.2.0,<3,>=1.25.4 in /opt/conda/envs/pytorch/lib/python3.10/site-packages (from botocore<2.0.0,>=1.29.0->strands-agents->-r requirements.txt (line 1)) (1.26.18)\n",
      "Requirement already satisfied: aiohttp in /opt/conda/envs/pytorch/lib/python3.10/site-packages (from litellm<2.0.0,>=1.69.0->strands-agents[litellm]->-r requirements.txt (line 3)) (3.10.1)\n",
      "Requirement already satisfied: click in /opt/conda/envs/pytorch/lib/python3.10/site-packages (from litellm<2.0.0,>=1.69.0->strands-agents[litellm]->-r requirements.txt (line 3)) (8.2.1)\n",
      "Requirement already satisfied: httpx>=0.23.0 in /opt/conda/envs/pytorch/lib/python3.10/site-packages (from litellm<2.0.0,>=1.69.0->strands-agents[litellm]->-r requirements.txt (line 3)) (0.27.0)\n",
      "Requirement already satisfied: importlib-metadata>=6.8.0 in /opt/conda/envs/pytorch/lib/python3.10/site-packages (from litellm<2.0.0,>=1.69.0->strands-agents[litellm]->-r requirements.txt (line 3)) (6.8.0)\n",
      "Requirement already satisfied: jinja2<4.0.0,>=3.1.2 in /opt/conda/envs/pytorch/lib/python3.10/site-packages (from litellm<2.0.0,>=1.69.0->strands-agents[litellm]->-r requirements.txt (line 3)) (3.1.2)\n",
      "Collecting jsonschema<5.0.0,>=4.22.0 (from litellm<2.0.0,>=1.69.0->strands-agents[litellm]->-r requirements.txt (line 3))\n",
      "  Downloading jsonschema-4.24.0-py3-none-any.whl.metadata (7.8 kB)\n",
      "Collecting openai>=1.68.2 (from litellm<2.0.0,>=1.69.0->strands-agents[litellm]->-r requirements.txt (line 3))\n",
      "  Downloading openai-1.84.0-py3-none-any.whl.metadata (25 kB)\n",
      "Requirement already satisfied: python-dotenv>=0.2.0 in /opt/conda/envs/pytorch/lib/python3.10/site-packages (from litellm<2.0.0,>=1.69.0->strands-agents[litellm]->-r requirements.txt (line 3)) (1.0.1)\n",
      "Collecting tiktoken>=0.7.0 (from litellm<2.0.0,>=1.69.0->strands-agents[litellm]->-r requirements.txt (line 3))\n",
      "  Downloading tiktoken-0.9.0-cp310-cp310-manylinux_2_17_x86_64.manylinux2014_x86_64.whl.metadata (6.7 kB)\n",
      "Requirement already satisfied: tokenizers in /opt/conda/envs/pytorch/lib/python3.10/site-packages (from litellm<2.0.0,>=1.69.0->strands-agents[litellm]->-r requirements.txt (line 3)) (0.19.1)\n",
      "Requirement already satisfied: anyio>=4.5 in /opt/conda/envs/pytorch/lib/python3.10/site-packages (from mcp<2.0.0,>=1.8.0->strands-agents->-r requirements.txt (line 1)) (4.9.0)\n",
      "Requirement already satisfied: httpx-sse>=0.4 in /opt/conda/envs/pytorch/lib/python3.10/site-packages (from mcp<2.0.0,>=1.8.0->strands-agents->-r requirements.txt (line 1)) (0.4.0)\n",
      "Requirement already satisfied: pydantic-settings>=2.5.2 in /opt/conda/envs/pytorch/lib/python3.10/site-packages (from mcp<2.0.0,>=1.8.0->strands-agents->-r requirements.txt (line 1)) (2.9.1)\n",
      "Requirement already satisfied: python-multipart>=0.0.9 in /opt/conda/envs/pytorch/lib/python3.10/site-packages (from mcp<2.0.0,>=1.8.0->strands-agents->-r requirements.txt (line 1)) (0.0.20)\n",
      "Requirement already satisfied: sse-starlette>=1.6.1 in /opt/conda/envs/pytorch/lib/python3.10/site-packages (from mcp<2.0.0,>=1.8.0->strands-agents->-r requirements.txt (line 1)) (2.3.6)\n",
      "Requirement already satisfied: starlette>=0.27 in /opt/conda/envs/pytorch/lib/python3.10/site-packages (from mcp<2.0.0,>=1.8.0->strands-agents->-r requirements.txt (line 1)) (0.47.0)\n",
      "Requirement already satisfied: uvicorn>=0.23.1 in /opt/conda/envs/pytorch/lib/python3.10/site-packages (from mcp<2.0.0,>=1.8.0->strands-agents->-r requirements.txt (line 1)) (0.34.3)\n",
      "Requirement already satisfied: googleapis-common-protos~=1.52 in /opt/conda/envs/pytorch/lib/python3.10/site-packages (from opentelemetry-exporter-otlp-proto-http<2.0.0,>=1.30.0->strands-agents->-r requirements.txt (line 1)) (1.70.0)\n",
      "Requirement already satisfied: opentelemetry-exporter-otlp-proto-common==1.34.0 in /opt/conda/envs/pytorch/lib/python3.10/site-packages (from opentelemetry-exporter-otlp-proto-http<2.0.0,>=1.30.0->strands-agents->-r requirements.txt (line 1)) (1.34.0)\n",
      "Requirement already satisfied: opentelemetry-proto==1.34.0 in /opt/conda/envs/pytorch/lib/python3.10/site-packages (from opentelemetry-exporter-otlp-proto-http<2.0.0,>=1.30.0->strands-agents->-r requirements.txt (line 1)) (1.34.0)\n",
      "Requirement already satisfied: protobuf<6.0,>=5.0 in /opt/conda/envs/pytorch/lib/python3.10/site-packages (from opentelemetry-proto==1.34.0->opentelemetry-exporter-otlp-proto-http<2.0.0,>=1.30.0->strands-agents->-r requirements.txt (line 1)) (5.29.5)\n",
      "Requirement already satisfied: opentelemetry-semantic-conventions==0.55b0 in /opt/conda/envs/pytorch/lib/python3.10/site-packages (from opentelemetry-sdk<2.0.0,>=1.30.0->strands-agents->-r requirements.txt (line 1)) (0.55b0)\n",
      "Requirement already satisfied: wcwidth in /opt/conda/envs/pytorch/lib/python3.10/site-packages (from prompt-toolkit<4.0.0,>=3.0.51->strands-agents-tools->-r requirements.txt (line 2)) (0.2.9)\n",
      "Requirement already satisfied: annotated-types>=0.6.0 in /opt/conda/envs/pytorch/lib/python3.10/site-packages (from pydantic<3.0.0,>=2.0.0->strands-agents->-r requirements.txt (line 1)) (0.6.0)\n",
      "Requirement already satisfied: pydantic-core==2.33.2 in /opt/conda/envs/pytorch/lib/python3.10/site-packages (from pydantic<3.0.0,>=2.0.0->strands-agents->-r requirements.txt (line 1)) (2.33.2)\n",
      "Requirement already satisfied: typing-inspection>=0.4.0 in /opt/conda/envs/pytorch/lib/python3.10/site-packages (from pydantic<3.0.0,>=2.0.0->strands-agents->-r requirements.txt (line 1)) (0.4.1)\n",
      "Requirement already satisfied: markdown-it-py>=2.2.0 in /opt/conda/envs/pytorch/lib/python3.10/site-packages (from rich<15.0.0,>=14.0.0->strands-agents-tools->-r requirements.txt (line 2)) (3.0.0)\n",
      "Requirement already satisfied: pygments<3.0.0,>=2.13.0 in /opt/conda/envs/pytorch/lib/python3.10/site-packages (from rich<15.0.0,>=14.0.0->strands-agents-tools->-r requirements.txt (line 2)) (2.16.1)\n",
      "Requirement already satisfied: slack_sdk<4,>=3.35.0 in /opt/conda/envs/pytorch/lib/python3.10/site-packages (from slack-bolt<2.0.0,>=1.23.0->strands-agents-tools->-r requirements.txt (line 2)) (3.35.0)\n",
      "Requirement already satisfied: mpmath>=0.19 in /opt/conda/envs/pytorch/lib/python3.10/site-packages (from sympy<2.0.0,>=1.12.0->strands-agents-tools->-r requirements.txt (line 2)) (1.3.0)\n",
      "Requirement already satisfied: exceptiongroup>=1.0.2 in /opt/conda/envs/pytorch/lib/python3.10/site-packages (from anyio>=4.5->mcp<2.0.0,>=1.8.0->strands-agents->-r requirements.txt (line 1)) (1.1.3)\n",
      "Requirement already satisfied: idna>=2.8 in /opt/conda/envs/pytorch/lib/python3.10/site-packages (from anyio>=4.5->mcp<2.0.0,>=1.8.0->strands-agents->-r requirements.txt (line 1)) (3.7)\n",
      "Requirement already satisfied: sniffio>=1.1 in /opt/conda/envs/pytorch/lib/python3.10/site-packages (from anyio>=4.5->mcp<2.0.0,>=1.8.0->strands-agents->-r requirements.txt (line 1)) (1.3.0)\n",
      "Requirement already satisfied: certifi in /opt/conda/envs/pytorch/lib/python3.10/site-packages (from httpx>=0.23.0->litellm<2.0.0,>=1.69.0->strands-agents[litellm]->-r requirements.txt (line 3)) (2023.7.22)\n",
      "Requirement already satisfied: httpcore==1.* in /opt/conda/envs/pytorch/lib/python3.10/site-packages (from httpx>=0.23.0->litellm<2.0.0,>=1.69.0->strands-agents[litellm]->-r requirements.txt (line 3)) (1.0.5)\n",
      "Requirement already satisfied: h11<0.15,>=0.13 in /opt/conda/envs/pytorch/lib/python3.10/site-packages (from httpcore==1.*->httpx>=0.23.0->litellm<2.0.0,>=1.69.0->strands-agents[litellm]->-r requirements.txt (line 3)) (0.14.0)\n",
      "Requirement already satisfied: zipp>=0.5 in /opt/conda/envs/pytorch/lib/python3.10/site-packages (from importlib-metadata>=6.8.0->litellm<2.0.0,>=1.69.0->strands-agents[litellm]->-r requirements.txt (line 3)) (3.17.0)\n",
      "Requirement already satisfied: MarkupSafe>=2.0 in /opt/conda/envs/pytorch/lib/python3.10/site-packages (from jinja2<4.0.0,>=3.1.2->litellm<2.0.0,>=1.69.0->strands-agents[litellm]->-r requirements.txt (line 3)) (2.1.3)\n",
      "Requirement already satisfied: attrs>=22.2.0 in /opt/conda/envs/pytorch/lib/python3.10/site-packages (from jsonschema<5.0.0,>=4.22.0->litellm<2.0.0,>=1.69.0->strands-agents[litellm]->-r requirements.txt (line 3)) (23.1.0)\n",
      "Requirement already satisfied: jsonschema-specifications>=2023.03.6 in /opt/conda/envs/pytorch/lib/python3.10/site-packages (from jsonschema<5.0.0,>=4.22.0->litellm<2.0.0,>=1.69.0->strands-agents[litellm]->-r requirements.txt (line 3)) (2023.7.1)\n",
      "Requirement already satisfied: referencing>=0.28.4 in /opt/conda/envs/pytorch/lib/python3.10/site-packages (from jsonschema<5.0.0,>=4.22.0->litellm<2.0.0,>=1.69.0->strands-agents[litellm]->-r requirements.txt (line 3)) (0.30.2)\n",
      "Requirement already satisfied: rpds-py>=0.7.1 in /opt/conda/envs/pytorch/lib/python3.10/site-packages (from jsonschema<5.0.0,>=4.22.0->litellm<2.0.0,>=1.69.0->strands-agents[litellm]->-r requirements.txt (line 3)) (0.10.6)\n",
      "Requirement already satisfied: mdurl~=0.1 in /opt/conda/envs/pytorch/lib/python3.10/site-packages (from markdown-it-py>=2.2.0->rich<15.0.0,>=14.0.0->strands-agents-tools->-r requirements.txt (line 2)) (0.1.2)\n",
      "Collecting distro<2,>=1.7.0 (from openai>=1.68.2->litellm<2.0.0,>=1.69.0->strands-agents[litellm]->-r requirements.txt (line 3))\n",
      "  Downloading distro-1.9.0-py3-none-any.whl.metadata (6.8 kB)\n",
      "Collecting jiter<1,>=0.4.0 (from openai>=1.68.2->litellm<2.0.0,>=1.69.0->strands-agents[litellm]->-r requirements.txt (line 3))\n",
      "  Downloading jiter-0.10.0-cp310-cp310-manylinux_2_17_x86_64.manylinux2014_x86_64.whl.metadata (5.2 kB)\n",
      "Requirement already satisfied: tqdm>4 in /opt/conda/envs/pytorch/lib/python3.10/site-packages (from openai>=1.68.2->litellm<2.0.0,>=1.69.0->strands-agents[litellm]->-r requirements.txt (line 3)) (4.66.1)\n",
      "Requirement already satisfied: six>=1.5 in /opt/conda/envs/pytorch/lib/python3.10/site-packages (from python-dateutil<3.0.0,>=2.1->botocore<2.0.0,>=1.29.0->strands-agents->-r requirements.txt (line 1)) (1.16.0)\n",
      "Requirement already satisfied: charset-normalizer<4,>=2 in /opt/conda/envs/pytorch/lib/python3.10/site-packages (from requests>=0.14.0->aws-requests-auth<0.5.0,>=0.4.3->strands-agents-tools->-r requirements.txt (line 2)) (3.3.2)\n",
      "Requirement already satisfied: regex>=2022.1.18 in /opt/conda/envs/pytorch/lib/python3.10/site-packages (from tiktoken>=0.7.0->litellm<2.0.0,>=1.69.0->strands-agents[litellm]->-r requirements.txt (line 3)) (2024.7.24)\n",
      "Requirement already satisfied: aiohappyeyeballs>=2.3.0 in /opt/conda/envs/pytorch/lib/python3.10/site-packages (from aiohttp->litellm<2.0.0,>=1.69.0->strands-agents[litellm]->-r requirements.txt (line 3)) (2.3.4)\n",
      "Requirement already satisfied: aiosignal>=1.1.2 in /opt/conda/envs/pytorch/lib/python3.10/site-packages (from aiohttp->litellm<2.0.0,>=1.69.0->strands-agents[litellm]->-r requirements.txt (line 3)) (1.3.1)\n",
      "Requirement already satisfied: frozenlist>=1.1.1 in /opt/conda/envs/pytorch/lib/python3.10/site-packages (from aiohttp->litellm<2.0.0,>=1.69.0->strands-agents[litellm]->-r requirements.txt (line 3)) (1.4.1)\n",
      "Requirement already satisfied: multidict<7.0,>=4.5 in /opt/conda/envs/pytorch/lib/python3.10/site-packages (from aiohttp->litellm<2.0.0,>=1.69.0->strands-agents[litellm]->-r requirements.txt (line 3)) (6.0.5)\n",
      "Requirement already satisfied: yarl<2.0,>=1.0 in /opt/conda/envs/pytorch/lib/python3.10/site-packages (from aiohttp->litellm<2.0.0,>=1.69.0->strands-agents[litellm]->-r requirements.txt (line 3)) (1.9.4)\n",
      "Requirement already satisfied: async-timeout<5.0,>=4.0 in /opt/conda/envs/pytorch/lib/python3.10/site-packages (from aiohttp->litellm<2.0.0,>=1.69.0->strands-agents[litellm]->-r requirements.txt (line 3)) (4.0.3)\n",
      "Requirement already satisfied: huggingface-hub<1.0,>=0.16.4 in /opt/conda/envs/pytorch/lib/python3.10/site-packages (from tokenizers->litellm<2.0.0,>=1.69.0->strands-agents[litellm]->-r requirements.txt (line 3)) (0.24.5)\n",
      "Requirement already satisfied: filelock in /opt/conda/envs/pytorch/lib/python3.10/site-packages (from huggingface-hub<1.0,>=0.16.4->tokenizers->litellm<2.0.0,>=1.69.0->strands-agents[litellm]->-r requirements.txt (line 3)) (3.13.1)\n",
      "Requirement already satisfied: fsspec>=2023.5.0 in /opt/conda/envs/pytorch/lib/python3.10/site-packages (from huggingface-hub<1.0,>=0.16.4->tokenizers->litellm<2.0.0,>=1.69.0->strands-agents[litellm]->-r requirements.txt (line 3)) (2023.10.0)\n",
      "Requirement already satisfied: packaging>=20.9 in /opt/conda/envs/pytorch/lib/python3.10/site-packages (from huggingface-hub<1.0,>=0.16.4->tokenizers->litellm<2.0.0,>=1.69.0->strands-agents[litellm]->-r requirements.txt (line 3)) (23.2)\n",
      "Requirement already satisfied: pyyaml>=5.1 in /opt/conda/envs/pytorch/lib/python3.10/site-packages (from huggingface-hub<1.0,>=0.16.4->tokenizers->litellm<2.0.0,>=1.69.0->strands-agents[litellm]->-r requirements.txt (line 3)) (6.0.1)\n",
      "Downloading litellm-1.72.1-py3-none-any.whl (8.0 MB)\n",
      "\u001b[2K   \u001b[90m━━━━━━━━━━━━━━━━━━━━━━━━━━━━━━━━━━━━━━━━\u001b[0m \u001b[32m8.0/8.0 MB\u001b[0m \u001b[31m110.3 MB/s\u001b[0m eta \u001b[36m0:00:00\u001b[0m00:01\u001b[0m00:01\u001b[0m\n",
      "\u001b[?25hDownloading jsonschema-4.24.0-py3-none-any.whl (88 kB)\n",
      "\u001b[2K   \u001b[90m━━━━━━━━━━━━━━━━━━━━━━━━━━━━━━━━━━━━━━━━\u001b[0m \u001b[32m88.7/88.7 kB\u001b[0m \u001b[31m8.6 MB/s\u001b[0m eta \u001b[36m0:00:00\u001b[0m\n",
      "\u001b[?25hDownloading openai-1.84.0-py3-none-any.whl (725 kB)\n",
      "\u001b[2K   \u001b[90m━━━━━━━━━━━━━━━━━━━━━━━━━━━━━━━━━━━━━━━━\u001b[0m \u001b[32m725.5/725.5 kB\u001b[0m \u001b[31m51.9 MB/s\u001b[0m eta \u001b[36m0:00:00\u001b[0m\n",
      "\u001b[?25hDownloading tiktoken-0.9.0-cp310-cp310-manylinux_2_17_x86_64.manylinux2014_x86_64.whl (1.2 MB)\n",
      "\u001b[2K   \u001b[90m━━━━━━━━━━━━━━━━━━━━━━━━━━━━━━━━━━━━━━━━\u001b[0m \u001b[32m1.2/1.2 MB\u001b[0m \u001b[31m69.0 MB/s\u001b[0m eta \u001b[36m0:00:00\u001b[0m\n",
      "\u001b[?25hDownloading distro-1.9.0-py3-none-any.whl (20 kB)\n",
      "Downloading jiter-0.10.0-cp310-cp310-manylinux_2_17_x86_64.manylinux2014_x86_64.whl (352 kB)\n",
      "\u001b[2K   \u001b[90m━━━━━━━━━━━━━━━━━━━━━━━━━━━━━━━━━━━━━━━━\u001b[0m \u001b[32m352.5/352.5 kB\u001b[0m \u001b[31m28.8 MB/s\u001b[0m eta \u001b[36m0:00:00\u001b[0m\n",
      "\u001b[?25h\u001b[33mWARNING: Ignoring invalid distribution -ackaging (/opt/conda/envs/pytorch/lib/python3.10/site-packages)\u001b[0m\u001b[33m\n",
      "\u001b[0mInstalling collected packages: jiter, distro, tiktoken, openai, jsonschema, litellm\n",
      "  Attempting uninstall: jsonschema\n",
      "    Found existing installation: jsonschema 4.19.2\n",
      "    Uninstalling jsonschema-4.19.2:\n",
      "      Successfully uninstalled jsonschema-4.19.2\n",
      "\u001b[31mERROR: pip's dependency resolver does not currently take into account all the packages that are installed. This behaviour is the source of the following dependency conflicts.\n",
      "sagemaker 2.234.0 requires protobuf<5.0,>=3.12, but you have protobuf 5.29.5 which is incompatible.\n",
      "sagemaker-core 1.0.14 requires rich<14.0.0,>=13.0.0, but you have rich 14.0.0 which is incompatible.\u001b[0m\u001b[31m\n",
      "\u001b[0mSuccessfully installed distro-1.9.0 jiter-0.10.0 jsonschema-4.24.0 litellm-1.72.1 openai-1.84.0 tiktoken-0.9.0\n"
     ]
    }
   ],
   "source": [
    "# installing pre-requisites\n",
    "!pip install -r requirements.txt"
   ]
  },
  {
   "cell_type": "markdown",
   "metadata": {},
   "source": [
    "### Importing dependency packages\n",
    "\n",
    "Now let's import the dependency packages\n"
   ]
  },
  {
   "cell_type": "code",
   "execution_count": 4,
   "metadata": {},
   "outputs": [],
   "source": [
    "import os\n",
    "from datetime import datetime\n",
    "from datetime import timezone as tz\n",
    "from typing import Any\n",
    "from zoneinfo import ZoneInfo\n",
    "\n",
    "from strands import Agent, tool\n",
    "from strands.models.litellm import LiteLLMModel"
   ]
  },
  {
   "cell_type": "markdown",
   "metadata": {},
   "source": [
    "### Setting up Azure keys\n",
    "\n",
    "Let's now setup the Azure API Keys\n"
   ]
  },
  {
   "cell_type": "code",
   "execution_count": null,
   "metadata": {},
   "outputs": [],
   "source": [
    "os.environ[\"AZURE_API_KEY\"] = \"<YOUR_API_KEY>\"\n",
    "os.environ[\"AZURE_API_BASE\"] = \"<YOUR_API_BASE>\"\n",
    "os.environ[\"AZURE_API_VERSION\"] = \"<YOUR_API_VERSION>\""
   ]
  },
  {
   "cell_type": "markdown",
   "metadata": {},
   "source": [
    "### Setting up custom tools\n",
    "\n",
    "Let's now setup two dummy tools to test our agent\n"
   ]
  },
  {
   "cell_type": "code",
   "execution_count": 9,
   "metadata": {},
   "outputs": [],
   "source": [
    "@tool\n",
    "def current_time(timezone: str = \"UTC\") -> str:\n",
    "    if timezone.upper() == \"UTC\":\n",
    "        timezone_obj: Any = tz.utc\n",
    "    else:\n",
    "        timezone_obj = ZoneInfo(timezone)\n",
    "\n",
    "    return datetime.now(timezone_obj).isoformat()\n",
    "\n",
    "\n",
    "@tool\n",
    "def current_weather(city: str) -> str:\n",
    "    # Dummy implementation. Please replace with actual weather API call.\n",
    "    return \"sunny\""
   ]
  },
  {
   "cell_type": "markdown",
   "metadata": {},
   "source": [
    "### Defining agent underlying LLM model\n",
    "\n",
    "Next let's define our agent underlying model using LiteLLM. We will set it to `gpt-4.1-mini`\n"
   ]
  },
  {
   "cell_type": "code",
   "execution_count": null,
   "metadata": {},
   "outputs": [],
   "source": [
    "from strands.models.litellm import LiteLLMModel\n",
    "\n",
    "# Azure OpenAI API用\n",
    "openai_model = LiteLLMModel(\n",
    "    model_id=\"azure/gpt-4.1-mini\",  # 適切なモデルを選択\n",
    "    params={\n",
    "        \"max_tokens\": 4096,  # モデルの機能に基づいて調整\n",
    "        \"temperature\": 0.7,  # より決定論的な応答には低く、より創造的には高く\n",
    "        \"top_p\": 0.9,  # Nucleus samplingパラメータ\n",
    "        \"stream\": True,  # ストリーミング応答を有効化\n",
    "    },\n",
    ")"
   ]
  },
  {
   "cell_type": "markdown",
   "metadata": {},
   "source": [
    "### Defining Agent\n",
    "\n",
    "Now that we have all the required information available, let's define our agent\n"
   ]
  },
  {
   "cell_type": "code",
   "execution_count": null,
   "metadata": {},
   "outputs": [],
   "source": [
    "from strands_tools import current_time\n",
    "\n",
    "\n",
    "@tool\n",
    "def current_weather(city: str) -> str:\n",
    "    \"\"\"都市の現在の天気を取得します（ダミー実装）。\"\"\"\n",
    "    return \"晴れ\"\n",
    "\n",
    "\n",
    "# ツールを持つエージェントを作成\n",
    "assistant = Agent(\n",
    "    system_prompt=\"あなたは役に立つ AI アシスタントです。時間と天気についての質問にだけ答えてくれます。\",  # システムプロンプトを定義\n",
    "    model=openai_model,  # 先ほど設定したOpenAIモデルを使用\n",
    "    tools=[current_time, current_weather],\n",
    ")"
   ]
  },
  {
   "cell_type": "markdown",
   "metadata": {},
   "source": [
    "### Testing agent\n",
    "\n",
    "Let's now invoke the agent to test it\n"
   ]
  },
  {
   "cell_type": "code",
   "execution_count": 12,
   "metadata": {},
   "outputs": [
    {
     "name": "stdout",
     "output_type": "stream",
     "text": [
      "\n",
      "Tool #1: current_time\n",
      "\n",
      "Tool #2: current_weather\n",
      "シアトルの現在の時刻は午前6時43分です。天気は晴れています。ほかに知りたいことはありますか？[{'role': 'user', 'content': [{'text': 'シアトルは今何時ですか？天気はどうですか？'}]}, {'role': 'assistant', 'content': [{'toolUse': {'toolUseId': 'call_69EfuIY1WlBa8GwlQVF55QOM', 'name': 'current_time', 'input': {'timezone': 'US/Pacific'}}}, {'toolUse': {'toolUseId': 'call_f7FGuXCnVTmbXRK4xypU79BL', 'name': 'current_weather', 'input': {'city': 'Seattle'}}}]}, {'role': 'user', 'content': [{'toolResult': {'toolUseId': 'call_f7FGuXCnVTmbXRK4xypU79BL', 'status': 'success', 'content': [{'text': '晴れ'}]}}, {'toolResult': {'toolUseId': 'call_69EfuIY1WlBa8GwlQVF55QOM', 'status': 'success', 'content': [{'text': '2025-06-06T06:43:36.610368-07:00'}]}}]}, {'role': 'assistant', 'content': [{'text': 'シアトルの現在の時刻は午前6時43分です。天気は晴れています。ほかに知りたいことはありますか？'}]}]\n",
      "EventLoopMetrics(cycle_count=2, tool_metrics={'current_weather': ToolMetrics(tool={'toolUseId': 'call_f7FGuXCnVTmbXRK4xypU79BL', 'name': 'current_weather', 'input': {'city': 'Seattle'}}, call_count=1, success_count=1, error_count=0, total_time=7.891654968261719e-05), 'current_time': ToolMetrics(tool={'toolUseId': 'call_69EfuIY1WlBa8GwlQVF55QOM', 'name': 'current_time', 'input': {'timezone': 'US/Pacific'}}, call_count=1, success_count=1, error_count=0, total_time=0.002354860305786133)}, cycle_durations=[0.859572172164917], traces=[<strands.telemetry.metrics.Trace object at 0x7f3954741bd0>, <strands.telemetry.metrics.Trace object at 0x7f395637ad70>], accumulated_usage={'inputTokens': 929, 'outputTokens': 85, 'totalTokens': 1014}, accumulated_metrics={'latencyMs': 0})\n"
     ]
    }
   ],
   "source": [
    "# ツールの使用が必要な質問をエージェントに尋ねる\n",
    "result = assistant(\"シアトルは今何時ですか？天気はどうですか？\")\n",
    "\n",
    "# 会話履歴を確認できます\n",
    "print(assistant.messages)\n",
    "\n",
    "# 使用メトリクスも確認できます\n",
    "print(result.metrics)"
   ]
  },
  {
   "cell_type": "markdown",
   "metadata": {},
   "source": [
    "#### Analysing the agent's results\n",
    "\n",
    "Nice! We've invoked our agent for the first time! Let's now explore the results object. First thing we can see is the messages being exchanged by the agent in the agent's object\n"
   ]
  },
  {
   "cell_type": "code",
   "execution_count": null,
   "metadata": {},
   "outputs": [],
   "source": [
    "agent.messages"
   ]
  },
  {
   "cell_type": "markdown",
   "metadata": {},
   "source": [
    "Next we can take a look at the usage of our agent for the last query by analysing the result `metrics`\n"
   ]
  },
  {
   "cell_type": "code",
   "execution_count": null,
   "metadata": {},
   "outputs": [],
   "source": [
    "results.metrics"
   ]
  },
  {
   "cell_type": "markdown",
   "metadata": {},
   "source": [
    "### Congratulations!\n",
    "\n",
    "In this notebook you learned how to connect with MCP servers using Strands Agent and two MCP transport protocols: stdio and Streamable HTTP. You also learned how to connect multiple MCP servers to the same agent. Next, let's see how to use different models with your agent\n"
   ]
  }
 ],
 "metadata": {
  "kernelspec": {
   "display_name": "pytorch",
   "language": "python",
   "name": "python3"
  },
  "language_info": {
   "codemirror_mode": {
    "name": "ipython",
    "version": 3
   },
   "file_extension": ".py",
   "mimetype": "text/x-python",
   "name": "python",
   "nbconvert_exporter": "python",
   "pygments_lexer": "ipython3",
   "version": "3.10.13"
  }
 },
 "nbformat": 4,
 "nbformat_minor": 4
}
